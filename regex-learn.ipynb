{
 "cells": [
  {
   "cell_type": "code",
   "execution_count": 12,
   "id": "2beafce0-fb59-47ce-9ea8-5c4798053cf3",
   "metadata": {},
   "outputs": [],
   "source": [
    "import re"
   ]
  },
  {
   "cell_type": "code",
   "execution_count": 13,
   "id": "82ddf3f1-4930-4855-9ad5-c2b81efcce5c",
   "metadata": {},
   "outputs": [],
   "source": [
    "text = \"Here is (apple) and (banana) and (cherry).\""
   ]
  },
  {
   "cell_type": "code",
   "execution_count": 14,
   "id": "2dc27e48-e4ca-48e6-ba8c-c56f8897c634",
   "metadata": {},
   "outputs": [
    {
     "name": "stdout",
     "output_type": "stream",
     "text": [
      "['apple', 'banana', 'cherry']\n"
     ]
    }
   ],
   "source": [
    "matches = re.findall(r'\\((.*?)\\)', text)\n",
    "print(matches)"
   ]
  },
  {
   "cell_type": "code",
   "execution_count": 15,
   "id": "28f6cb86-f58f-42bc-a46b-352737a2bfd4",
   "metadata": {},
   "outputs": [],
   "source": [
    "text = \"I love #data, #music, and #coding.\""
   ]
  },
  {
   "cell_type": "code",
   "execution_count": 18,
   "id": "34a25fd5-060f-4659-bfa8-0a8c63d25a69",
   "metadata": {},
   "outputs": [
    {
     "name": "stdout",
     "output_type": "stream",
     "text": [
      "['#data', '#music', '#coding']\n"
     ]
    }
   ],
   "source": [
    "matches = re.findall(r'#\\w+', text)\n",
    "print(matches)"
   ]
  },
  {
   "cell_type": "code",
   "execution_count": 19,
   "id": "adc16283-33f9-4d68-8303-8845548ecbf5",
   "metadata": {},
   "outputs": [],
   "source": [
    "text = \"Intro [Verse 1] lyrics here [Chorus] more lyrics\""
   ]
  },
  {
   "cell_type": "code",
   "execution_count": 22,
   "id": "00b48afc-540d-47a8-9474-fe3deb5ab1b5",
   "metadata": {},
   "outputs": [
    {
     "name": "stdout",
     "output_type": "stream",
     "text": [
      "['[Verse 1]', '[Chorus]']\n"
     ]
    }
   ],
   "source": [
    "matches = re.findall(r'\\[.*?\\]', text)\n",
    "print(matches)"
   ]
  },
  {
   "cell_type": "code",
   "execution_count": 23,
   "id": "e87c6c7b-2f54-422c-8ac1-8b51138c8b8c",
   "metadata": {},
   "outputs": [
    {
     "data": {
      "text/plain": [
       "'Intro  lyrics here  more lyrics'"
      ]
     },
     "execution_count": 23,
     "metadata": {},
     "output_type": "execute_result"
    }
   ],
   "source": [
    "cleaned = re.sub(r'\\[.*?\\]', '', text)\n",
    "cleaned"
   ]
  },
  {
   "cell_type": "code",
   "execution_count": null,
   "id": "b1455136-2f9f-4107-b9e5-59c2dfa7e74f",
   "metadata": {},
   "outputs": [],
   "source": []
  }
 ],
 "metadata": {
  "kernelspec": {
   "display_name": "Python 3 (ipykernel)",
   "language": "python",
   "name": "python3"
  },
  "language_info": {
   "codemirror_mode": {
    "name": "ipython",
    "version": 3
   },
   "file_extension": ".py",
   "mimetype": "text/x-python",
   "name": "python",
   "nbconvert_exporter": "python",
   "pygments_lexer": "ipython3",
   "version": "3.13.3"
  }
 },
 "nbformat": 4,
 "nbformat_minor": 5
}
