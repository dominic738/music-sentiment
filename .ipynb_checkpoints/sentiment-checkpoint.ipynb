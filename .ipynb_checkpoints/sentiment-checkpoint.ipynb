{
 "cells": [
  {
   "cell_type": "code",
   "execution_count": 1,
   "id": "2eca3768-0194-4af8-b6a5-7bdefccc0d02",
   "metadata": {},
   "outputs": [],
   "source": [
    "import lyrics_utils as lu"
   ]
  },
  {
   "cell_type": "code",
   "execution_count": 6,
   "id": "d6afd895-7590-4462-8c00-8c4dd5eef32c",
   "metadata": {},
   "outputs": [
    {
     "name": "stdout",
     "output_type": "stream",
     "text": [
      "Searching for \"Call Me Maybe\" by Carly Rae Jepsen...\n",
      "Done.\n"
     ]
    }
   ],
   "source": [
    "embeddings = lu.get_song_embeddings('Call Me Maybe', 'Carly Rae Jepsen', plot = False)"
   ]
  },
  {
   "cell_type": "code",
   "execution_count": 8,
   "id": "744156a4-e722-47b4-8af0-b0668e29e189",
   "metadata": {},
   "outputs": [],
   "source": [
    "positive_words = ['joy', 'love', 'cheerful', 'delight', 'hope', 'smile', 'excited']\n",
    "negative_words = ['pain', 'hate', 'sadness', 'grief', 'anger', 'cry', 'depressed']"
   ]
  },
  {
   "cell_type": "code",
   "execution_count": null,
   "id": "cfb81b34-f17c-40be-a95b-80aa35dd4740",
   "metadata": {},
   "outputs": [],
   "source": []
  }
 ],
 "metadata": {
  "kernelspec": {
   "display_name": "Python 3 (ipykernel)",
   "language": "python",
   "name": "python3"
  },
  "language_info": {
   "codemirror_mode": {
    "name": "ipython",
    "version": 3
   },
   "file_extension": ".py",
   "mimetype": "text/x-python",
   "name": "python",
   "nbconvert_exporter": "python",
   "pygments_lexer": "ipython3",
   "version": "3.13.3"
  }
 },
 "nbformat": 4,
 "nbformat_minor": 5
}
