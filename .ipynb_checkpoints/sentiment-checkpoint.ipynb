{
 "cells": [
  {
   "cell_type": "code",
   "execution_count": 1,
   "id": "2eca3768-0194-4af8-b6a5-7bdefccc0d02",
   "metadata": {},
   "outputs": [],
   "source": [
    "import lyrics_utils as lu\n",
    "import numpy as np\n",
    "from sentence_transformers import SentenceTransformer\n",
    "import spotipy\n",
    "from spotipy.oauth2 import SpotifyClientCredentials\n",
    "from pprint import pprint\n",
    "import re\n",
    "import os\n",
    "import pickle"
   ]
  },
  {
   "cell_type": "code",
   "execution_count": 3,
   "id": "d5e82974-1f60-47d8-aff2-e5bdc2b11bd1",
   "metadata": {},
   "outputs": [
    {
     "ename": "TypeError",
     "evalue": "get_song_cached() missing 1 required positional argument: 'genius'",
     "output_type": "error",
     "traceback": [
      "\u001b[31m---------------------------------------------------------------------------\u001b[39m",
      "\u001b[31mTypeError\u001b[39m                                 Traceback (most recent call last)",
      "\u001b[36mCell\u001b[39m\u001b[36m \u001b[39m\u001b[32mIn[3]\u001b[39m\u001b[32m, line 1\u001b[39m\n\u001b[32m----> \u001b[39m\u001b[32m1\u001b[39m song = \u001b[43mlu\u001b[49m\u001b[43m.\u001b[49m\u001b[43mget_song_cached\u001b[49m\u001b[43m(\u001b[49m\u001b[33;43m'\u001b[39;49m\u001b[33;43mPunk Weight\u001b[39;49m\u001b[33;43m'\u001b[39;49m\u001b[43m,\u001b[49m\u001b[43m \u001b[49m\u001b[33;43m'\u001b[39;49m\u001b[33;43mDeath Grips\u001b[39;49m\u001b[33;43m'\u001b[39;49m\u001b[43m)\u001b[49m\n\u001b[32m      2\u001b[39m song\n",
      "\u001b[31mTypeError\u001b[39m: get_song_cached() missing 1 required positional argument: 'genius'"
     ]
    }
   ],
   "source": [
    "song = lu.get_song_cached('Punk Weight', 'Death Grips')\n",
    "song"
   ]
  },
  {
   "cell_type": "code",
   "execution_count": null,
   "id": "43ad7469-0222-4e7b-8a28-dbbadfcfa6de",
   "metadata": {},
   "outputs": [],
   "source": []
  },
  {
   "cell_type": "code",
   "execution_count": null,
   "id": "6af7a2df-1411-4ced-8eea-fc4243c32a06",
   "metadata": {},
   "outputs": [],
   "source": []
  },
  {
   "cell_type": "code",
   "execution_count": 2,
   "id": "8bc691bf-2acf-42ba-9aba-48e58fb2ba51",
   "metadata": {},
   "outputs": [],
   "source": [
    "CLIENT_ID = 'aa27a42f01b4407685ac5dc11aeaf5d1'\n",
    "CLIENT_SECRET = '08bd7a5dd48b4c829ee4a87dd894bef4'"
   ]
  },
  {
   "cell_type": "code",
   "execution_count": 3,
   "id": "840242a0-c079-4ebe-99e2-b8d6722cda46",
   "metadata": {},
   "outputs": [],
   "source": [
    "auth_manager = SpotifyClientCredentials(client_id=CLIENT_ID, client_secret=CLIENT_SECRET)"
   ]
  },
  {
   "cell_type": "code",
   "execution_count": 4,
   "id": "76827ca4-c75c-4a8d-b2c7-ae9f2c1ace09",
   "metadata": {},
   "outputs": [],
   "source": [
    "sp = spotipy.Spotify(auth_manager=auth_manager)"
   ]
  },
  {
   "cell_type": "code",
   "execution_count": 17,
   "id": "8b3f8009-b99a-4035-a4ac-d9280c8f3d82",
   "metadata": {},
   "outputs": [],
   "source": [
    "\n",
    "def clean_track_name(name):\n",
    "    # Remove things like: \" - 2004 Digital Remaster\", \"(Remastered 2017)\", etc.\n",
    "    name = re.sub(\n",
    "        r'\\s*[\\(\\[-–—]?[^\\)\\]\\-–—]*?(?:\\d{4}\\s*)?(Digital\\s*)?Remaster(ed)?|Live|Bonus[^\\)\\]\\-–—]*?[\\)\\]-–—]?',\n",
    "        '',\n",
    "        name,\n",
    "        flags=re.IGNORECASE\n",
    "    )\n",
    "    # Remove any trailing punctuation or whitespace\n",
    "    name = re.sub(r\"[-–—'\\s]+$\", '', name)\n",
    "    return name.strip()"
   ]
  },
  {
   "cell_type": "code",
   "execution_count": 18,
   "id": "15dc0ff0-5e5a-4640-8ede-2366fb295e4e",
   "metadata": {},
   "outputs": [
    {
     "data": {
      "text/plain": [
       "'By This River'"
      ]
     },
     "execution_count": 18,
     "metadata": {},
     "output_type": "execute_result"
    }
   ],
   "source": [
    "clean_track_name('By This River - 2004 Digital Remaster')"
   ]
  },
  {
   "cell_type": "code",
   "execution_count": 19,
   "id": "6fd05f7c-88b8-4571-bb1b-f76130ba4847",
   "metadata": {},
   "outputs": [],
   "source": [
    "def get_playlist(playlist_url, sp):\n",
    "    results = sp.playlist_items(playlist_url)\n",
    "    song_d = {}\n",
    "\n",
    "    \n",
    "    while results:\n",
    "        for item in results['items']:\n",
    "            track = item.get('track')\n",
    "            if not track:\n",
    "                continue\n",
    "\n",
    "            track_name = track['name']\n",
    "            track_name = clean_track_name(track_name)\n",
    "            \n",
    "            artist_name = track['artists'][0]['name']\n",
    "            song_d[track_name] = artist_name\n",
    "\n",
    "        if results['next']:\n",
    "            results = sp.next(results)\n",
    "        else:\n",
    "            break\n",
    "\n",
    "    return song_d\n",
    "    "
   ]
  },
  {
   "cell_type": "code",
   "execution_count": 20,
   "id": "f5c9602d-b5ab-4696-a758-026a4a3edce4",
   "metadata": {},
   "outputs": [],
   "source": [
    "playlist = get_playlist('https://open.spotify.com/playlist/11OS4z2v9GRjyA6Q5KFu0c?si=e4abb969dd0442b5', sp)"
   ]
  },
  {
   "cell_type": "code",
   "execution_count": 21,
   "id": "96908006-8e6a-4691-af0b-eddcc1e50a8e",
   "metadata": {},
   "outputs": [
    {
     "data": {
      "text/plain": [
       "{'29 #Strafford APTS': 'Bon Iver',\n",
       " 'Somebody That I Used To Know': 'Elliott Smith',\n",
       " 'For Emma': 'Bon Iver',\n",
       " 'Re: Stacks': 'Bon Iver',\n",
       " 'Everything Means Nothing To Me': 'Elliott Smith',\n",
       " 'Landslide': 'Fleetwood Mac',\n",
       " 'Gold Day': 'Sparklehorse',\n",
       " 'By This River': 'Brian Eno',\n",
       " 'Everything Reminds Me Of Her': 'Elliott Smith',\n",
       " \"I'm So Tired\": 'Fugazi',\n",
       " 'Skeleton Tree': 'Nick Cave & The Bad Seeds',\n",
       " \"King's Crossing\": 'Elliott Smith',\n",
       " 'Casimir Pulaski Day': 'Sufjan Stevens',\n",
       " 'Waltz #2 (XO)': 'Elliott Smith',\n",
       " 'John Wayne Gacy, Jr.': 'Sufjan Stevens',\n",
       " 'Gagging Order': 'Radiohead',\n",
       " 'The Moon': 'The Microphones',\n",
       " 'I Felt My Size': 'The Microphones',\n",
       " 'Death with Dignity': 'Sufjan Stevens',\n",
       " 'Katy Song': 'Red House Painters',\n",
       " 'Ravens': 'Mount Eerie',\n",
       " \"I Can't Give Everything Away\": 'David Bowie',\n",
       " \"I Can't Believe You Actually Died\": 'The Microphones',\n",
       " 'Come Softly - For Daniel D.': 'Grouper',\n",
       " 'Glass Eyes': 'Radiohead',\n",
       " 'I Will Follow You into the Dark': 'Death Cab for Cutie',\n",
       " 'Eugene': 'Sufjan Stevens',\n",
       " 'Fourth of July': 'Sufjan Stevens',\n",
       " 'The Only Thing': 'Sufjan Stevens',\n",
       " 'Good News': 'Mac Miller',\n",
       " 'Tears In The Typing Pool': 'Broadcast',\n",
       " 'Reason to Believe': 'Karen Dalton',\n",
       " 'Daylight': 'Watchhouse',\n",
       " 'Mis': 'Alex G',\n",
       " 'Sparks': 'Coldplay',\n",
       " 'You Swan, Go On': 'Mount Eerie',\n",
       " 'Somewhere Tonight': 'Beach House',\n",
       " 'Paul': 'Big Thief',\n",
       " 'Gnaw': 'Alex G',\n",
       " 'Sadness As A Gift': 'Adrianne Lenker',\n",
       " 'Ruined': 'Adrianne Lenker',\n",
       " 'Tears in Heaven': 'Eric Clapton',\n",
       " 'Let Down': 'Radiohead',\n",
       " \"I Don't Want to  on the Moon\": 'Ernie',\n",
       " 'Mike': 'Xiu Xiu',\n",
       " 'Bankrupt On Selling': 'Modest Mouse',\n",
       " 'Talking Shit About a Pretty Sunset': 'Modest Mouse',\n",
       " 'Hold On Magnolia': 'Songs: Ohia',\n",
       " 'Just Be Simple - Demo': 'Songs: Ohia',\n",
       " 'Hold On Magnolia - Demo': 'Songs: Ohia',\n",
       " 'AWARDS SEASON': 'Bon Iver',\n",
       " 'Basketball Shoes': 'Black Country, New Road'}"
      ]
     },
     "execution_count": 21,
     "metadata": {},
     "output_type": "execute_result"
    }
   ],
   "source": [
    "playlist"
   ]
  },
  {
   "cell_type": "code",
   "execution_count": 2,
   "id": "60df0a76-5efb-4caa-9fbe-d3058f5d1998",
   "metadata": {},
   "outputs": [],
   "source": [
    "SONG_TITLE = 'Happy'\n",
    "SONG_ARTIST = 'Pharrell Williams'"
   ]
  },
  {
   "cell_type": "code",
   "execution_count": 3,
   "id": "2edf61f4-9b4e-4179-b280-539748f90f0d",
   "metadata": {},
   "outputs": [
    {
     "name": "stdout",
     "output_type": "stream",
     "text": [
      "Searching for \"Happy\" by Pharrell Williams...\n",
      "Done.\n"
     ]
    },
    {
     "name": "stderr",
     "output_type": "stream",
     "text": [
      "/Users/dominicbankovitch/Documents/Repos/music-sentiment/venv/lib/python3.13/site-packages/lyricsgenius/genius.py:468: FutureWarning: The constructor signature will change in a future version. It will change to Song(lyrics, body) instead of Song(client, json_dict, lyrics).\n",
      "  song = Song(self, song_info, lyrics)\n"
     ]
    }
   ],
   "source": [
    "song = lu.get_song(SONG_TITLE, SONG_ARTIST)"
   ]
  },
  {
   "cell_type": "code",
   "execution_count": 4,
   "id": "e73a3cef-7254-4c5e-a755-04cc6b189b63",
   "metadata": {},
   "outputs": [
    {
     "name": "stdout",
     "output_type": "stream",
     "text": [
      "Searching for \"Tears in Heaven\" by Eric Clapton...\n",
      "Done.\n"
     ]
    }
   ],
   "source": [
    "sad_song = lu.get_song('Tears in Heaven', 'Eric Clapton')"
   ]
  },
  {
   "cell_type": "code",
   "execution_count": 5,
   "id": "744156a4-e722-47b4-8af0-b0668e29e189",
   "metadata": {},
   "outputs": [],
   "source": [
    "positive_words = ['joy', 'love', 'cheerful', 'delight', 'hope', 'smile', 'excited']\n",
    "negative_words = ['pain', 'hate', 'sadness', 'grief', 'anger', 'cry', 'depressed']"
   ]
  },
  {
   "cell_type": "code",
   "execution_count": 6,
   "id": "4c737a79-af77-4fa4-ba7b-0ef2c6711bc8",
   "metadata": {},
   "outputs": [],
   "source": [
    "def normalize(v):\n",
    "    return v / np.linalg.norm(v)"
   ]
  },
  {
   "cell_type": "code",
   "execution_count": 7,
   "id": "cfb81b34-f17c-40be-a95b-80aa35dd4740",
   "metadata": {},
   "outputs": [],
   "source": [
    "def compute_axis(pos_words, neg_words, model = SentenceTransformer('all-MiniLM-L6-v2')):\n",
    "    pos_vecs = model.encode(pos_words)\n",
    "    neg_vecs = model.encode(neg_words)\n",
    "\n",
    "    pos_vecs = [normalize(v) for v in pos_vecs]\n",
    "    neg_vecs = [normalize(v) for v in neg_vecs]\n",
    "    \n",
    "    return np.mean(pos_vecs, axis = 0) - np.mean(neg_vecs, axis = 0)"
   ]
  },
  {
   "cell_type": "code",
   "execution_count": 8,
   "id": "0def9bb5-758f-4545-aaa3-63cb7a2aad71",
   "metadata": {
    "scrolled": true
   },
   "outputs": [],
   "source": [
    "def project_line(line, axis, model = SentenceTransformer('all-MiniLM-L6-v2')):\n",
    "    line_vec = normalize(model.encode(line))\n",
    "    return np.dot(line_vec, axis)"
   ]
  },
  {
   "cell_type": "code",
   "execution_count": 9,
   "id": "e9b69d0c-fbfd-4cfc-a112-c0bb0bf65e70",
   "metadata": {},
   "outputs": [],
   "source": [
    "def score_song(song, axis, model = SentenceTransformer('all-MiniLM-L6-v2')):\n",
    "    lines = lu.lyrics_preprocessing(song.lyrics)\n",
    "    scores = [project_line(line, axis, model) for line in lines]\n",
    "    return np.mean(scores), scores"
   ]
  },
  {
   "cell_type": "code",
   "execution_count": 82,
   "id": "cafd51d2-0922-4efa-af89-08db20d51e66",
   "metadata": {},
   "outputs": [],
   "source": [
    "def score_playlist(playlist, axis, model = SentenceTransformer('all-MiniLM-L6-v2')):\n",
    "    score_d = {}\n",
    "    for song_name in playlist.keys():\n",
    "        song = lu.get_song(song_name, playlist[song_name])\n",
    "        score = score_song(song, axis, model)\n",
    "        score_d[song] = score\n",
    "\n",
    "    return score_d\n",
    "        "
   ]
  },
  {
   "cell_type": "code",
   "execution_count": 83,
   "id": "beb32431-59c6-4da7-82ba-d20b4b618ab8",
   "metadata": {},
   "outputs": [],
   "source": [
    "emotion_axis = compute_axis(positive_words, negative_words)"
   ]
  },
  {
   "cell_type": "code",
   "execution_count": 84,
   "id": "5a41e557-f981-4b2d-922f-3ab41ca17f8d",
   "metadata": {},
   "outputs": [
    {
     "name": "stdout",
     "output_type": "stream",
     "text": [
      "Searching for \"29 #Strafford APTS\" by Bon Iver...\n",
      "Done.\n",
      "Searching for \"Somebody That I Used To Know\" by Elliott Smith...\n",
      "Done.\n",
      "Searching for \"For Emma\" by Bon Iver...\n",
      "Done.\n",
      "Searching for \"Re: Stacks\" by Bon Iver...\n",
      "Done.\n",
      "Searching for \"Everything Means Nothing To Me\" by Elliott Smith...\n",
      "Done.\n",
      "Searching for \"Landslide\" by Fleetwood Mac...\n",
      "Done.\n",
      "Searching for \"Gold Day\" by Sparklehorse...\n",
      "Done.\n",
      "Searching for \"By This River - 2004 Digital Remaster\" by Brian Eno...\n",
      "No results found for: 'By This River - 2004 Digital Remaster Brian Eno'\n"
     ]
    },
    {
     "ename": "AttributeError",
     "evalue": "'NoneType' object has no attribute 'lyrics'",
     "output_type": "error",
     "traceback": [
      "\u001b[31m---------------------------------------------------------------------------\u001b[39m",
      "\u001b[31mAttributeError\u001b[39m                            Traceback (most recent call last)",
      "\u001b[36mCell\u001b[39m\u001b[36m \u001b[39m\u001b[32mIn[84]\u001b[39m\u001b[32m, line 1\u001b[39m\n\u001b[32m----> \u001b[39m\u001b[32m1\u001b[39m scores = \u001b[43mscore_playlist\u001b[49m\u001b[43m(\u001b[49m\u001b[43mplaylist\u001b[49m\u001b[43m,\u001b[49m\u001b[43m \u001b[49m\u001b[43memotion_axis\u001b[49m\u001b[43m)\u001b[49m\n",
      "\u001b[36mCell\u001b[39m\u001b[36m \u001b[39m\u001b[32mIn[82]\u001b[39m\u001b[32m, line 5\u001b[39m, in \u001b[36mscore_playlist\u001b[39m\u001b[34m(playlist, axis, model)\u001b[39m\n\u001b[32m      3\u001b[39m \u001b[38;5;28;01mfor\u001b[39;00m song_name \u001b[38;5;129;01min\u001b[39;00m playlist.keys():\n\u001b[32m      4\u001b[39m     song = lu.get_song(song_name, playlist[song_name])\n\u001b[32m----> \u001b[39m\u001b[32m5\u001b[39m     score = \u001b[43mscore_song\u001b[49m\u001b[43m(\u001b[49m\u001b[43msong\u001b[49m\u001b[43m,\u001b[49m\u001b[43m \u001b[49m\u001b[43maxis\u001b[49m\u001b[43m,\u001b[49m\u001b[43m \u001b[49m\u001b[43mmodel\u001b[49m\u001b[43m)\u001b[49m\n\u001b[32m      6\u001b[39m     score_d[song] = score\n\u001b[32m      8\u001b[39m \u001b[38;5;28;01mreturn\u001b[39;00m score_d\n",
      "\u001b[36mCell\u001b[39m\u001b[36m \u001b[39m\u001b[32mIn[9]\u001b[39m\u001b[32m, line 2\u001b[39m, in \u001b[36mscore_song\u001b[39m\u001b[34m(song, axis, model)\u001b[39m\n\u001b[32m      1\u001b[39m \u001b[38;5;28;01mdef\u001b[39;00m\u001b[38;5;250m \u001b[39m\u001b[34mscore_song\u001b[39m(song, axis, model = SentenceTransformer(\u001b[33m'\u001b[39m\u001b[33mall-MiniLM-L6-v2\u001b[39m\u001b[33m'\u001b[39m)):\n\u001b[32m----> \u001b[39m\u001b[32m2\u001b[39m     lines = lu.lyrics_preprocessing(\u001b[43msong\u001b[49m\u001b[43m.\u001b[49m\u001b[43mlyrics\u001b[49m)\n\u001b[32m      3\u001b[39m     scores = [project_line(line, axis, model) \u001b[38;5;28;01mfor\u001b[39;00m line \u001b[38;5;129;01min\u001b[39;00m lines]\n\u001b[32m      4\u001b[39m     \u001b[38;5;28;01mreturn\u001b[39;00m np.mean(scores), scores\n",
      "\u001b[31mAttributeError\u001b[39m: 'NoneType' object has no attribute 'lyrics'"
     ]
    }
   ],
   "source": [
    "scores = score_playlist(playlist, emotion_axis)"
   ]
  },
  {
   "cell_type": "code",
   "execution_count": 11,
   "id": "3945e003-99f8-4eb5-bf9a-0c70005428de",
   "metadata": {},
   "outputs": [],
   "source": [
    "song_score, scores = score_song(song, emotion_axis)"
   ]
  },
  {
   "cell_type": "code",
   "execution_count": 12,
   "id": "b70f5619-9a43-496f-a678-91a0bf858ac4",
   "metadata": {},
   "outputs": [
    {
     "data": {
      "text/plain": [
       "np.float32(0.013467753)"
      ]
     },
     "execution_count": 12,
     "metadata": {},
     "output_type": "execute_result"
    }
   ],
   "source": [
    "song_score"
   ]
  },
  {
   "cell_type": "code",
   "execution_count": 13,
   "id": "9f0a3c79-15fa-47d7-ae8e-36519e8caf03",
   "metadata": {},
   "outputs": [],
   "source": [
    "sad, sads = score_song(sad_song, emotion_axis)"
   ]
  },
  {
   "cell_type": "code",
   "execution_count": 14,
   "id": "b7b28c1c-697a-47b2-975b-c82f0a7b6233",
   "metadata": {},
   "outputs": [
    {
     "data": {
      "text/plain": [
       "np.float32(-0.017724603)"
      ]
     },
     "execution_count": 14,
     "metadata": {},
     "output_type": "execute_result"
    }
   ],
   "source": [
    "sad"
   ]
  },
  {
   "cell_type": "code",
   "execution_count": 15,
   "id": "ba84047b-786c-4e6e-be60-22b91892e68b",
   "metadata": {},
   "outputs": [
    {
     "data": {
      "text/plain": [
       "np.float32(0.61123645)"
      ]
     },
     "execution_count": 15,
     "metadata": {},
     "output_type": "execute_result"
    }
   ],
   "source": [
    "np.linalg.norm(emotion_axis)"
   ]
  },
  {
   "cell_type": "code",
   "execution_count": 16,
   "id": "3edb8ed7-46e0-4ee7-9e5c-6eb3814837bb",
   "metadata": {},
   "outputs": [
    {
     "name": "stdout",
     "output_type": "stream",
     "text": [
      "Positive score: 0.14363736\n",
      "Negative score: -0.1716564\n"
     ]
    }
   ],
   "source": [
    "pos_line = \"I feel so much joy and love\"\n",
    "neg_line = \"I’m lost and broken in sadness\"\n",
    "\n",
    "print(\"Positive score:\", project_line(pos_line, emotion_axis))\n",
    "print(\"Negative score:\", project_line(neg_line, emotion_axis))"
   ]
  },
  {
   "cell_type": "code",
   "execution_count": 18,
   "id": "80bbdcca-8e80-4dcf-8ddc-d334d92d8855",
   "metadata": {},
   "outputs": [
    {
     "data": {
      "text/plain": [
       "\"193 ContributorsTranslationsPortuguêsΕλληνικάFrançaisTürkçeHappy LyricsPharrell made the world “Happy” in 2014 with this feel-good anthem. The song soared to #1 in 35 countries—it was the best selling song of 2014.\\nPharrell wrote and produced “Happy” for the soundtrack of… Read More\\xa0\\n\\nIt might seem crazy what I'm 'bout to say\\nSunshine, she's here, you can take a break\\nI'm a hot air balloon that could go to space\\nWith the air, like I don't care, baby, by the way, huh\\n\\n(Because I'm happy)\\nClap along if you feel like a room without a roof\\n(Because I'm happy)\\nClap along if you feel like happiness is the truth\\n(Because I'm happy)\\nClap along if you know what happiness is to you\\n(Because I'm happy)\\nClap along if you feel like that's what you wanna do\\n\\nHere come bad news, talking this and that (Yeah!)\\nWell, give me all you got, don't hold it back (Yeah!)\\nWell, I should probably warn ya, I'll be just fine (Yeah!)\\nNo offense to you, don’t waste your time, here's why\\n\\n(Because I'm happy)\\nClap along if you feel like a room without a roof\\n(Because I'm happy)\\nClap along if you feel like happiness is the truth\\n(Because I'm happy)\\nClap along if you know what happiness is to you\\n(Because I'm happy)\\nClap along if you feel like that's what you wanna do (Hey! Come on! Uh!)\\n\\n(Happy) Bring me down\\nCan't nothing (Happy), bring me down\\nMy level's too high to (Happy), bring me down\\nCan't nothing (Happy), bring me down, I said\\n(Let me tell you now)\\n(Happy, happy, happy, happy) Bring me down\\nCan't nothing (Happy, happy, happy, happy) bring me down\\nMy level's too high to (Happy, happy, happy, happy)  bring me down\\nCan't nothing (Happy, happy, happy) bring me down, I said\\n\\n(Because I'm happy)\\nClap along if you feel like a room without a roof\\n(Because I'm happy)\\nClap along if you feel like happiness is the truth\\n(Because I'm happy)\\nClap along if you know what happiness is to you\\n(Because I'm happy)\\nClap along if you feel like that's what you wanna do\\n(Because I'm happy)\\nClap along if you feel like a room without a roof\\n(Because I'm happy)\\nClap along if you feel like happiness is the truth\\n(Because I'm happy)\\nClap along if you know what happiness is to you\\n(Because I'm happy)\\nClap along if you feel like that's what you wanna do (Hey! Come on! Uh!)\\n\\n(Happy, happy, happy, happy) Bring me down\\nCan't nothing (Happy, happy, happy, happy) bring me down\\nMy level's too high to (Happy, happy, happy, happy)  bring me down\\nCan't nothing (Happy, happy, happy) bring me down, I said…\\n(Because I'm happy)\\nClap along if you feel like a room without a roof\\n(Because I'm happy)\\nClap along if you feel like happiness is the truth\\n(Because I'm happy)\\nClap along if you know what happiness is to you\\n(Because I'm happy)\\nClap along if you feel like that's what you wanna do\\n(Because I'm happy)\\nClap along if you feel like a room without a roof\\n(Because I'm happy)\\nClap along if you feel like happiness is the truth\\n(Because I'm happy)\\nClap along if you know what happiness is to you\\n(Because I'm happy)\\nClap along if you feel like that's what you wanna do (Come on)\""
      ]
     },
     "execution_count": 18,
     "metadata": {},
     "output_type": "execute_result"
    }
   ],
   "source": [
    "song.lyrics"
   ]
  },
  {
   "cell_type": "code",
   "execution_count": 19,
   "id": "9fb41817-6df3-4abf-91fb-a77c1ea563e3",
   "metadata": {},
   "outputs": [
    {
     "data": {
      "text/plain": [
       "['Pharrell wrote and produced Happy for the soundtrack of Read More',\n",
       " 'It might seem crazy what Im bout to say',\n",
       " 'Sunshine shes here you can take a break',\n",
       " 'Im a hot air balloon that could go to space',\n",
       " 'With the air like I dont care baby by the way huh',\n",
       " 'Because Im happy',\n",
       " 'Clap along if you feel like a room without a roof',\n",
       " 'Clap along if you feel like happiness is the truth',\n",
       " 'Clap along if you know what happiness is to you',\n",
       " 'Clap along if you feel like thats what you wanna do',\n",
       " 'Here come bad news talking this and that Yeah',\n",
       " 'Well give me all you got dont hold it back Yeah',\n",
       " 'Well I should probably warn ya Ill be just fine Yeah',\n",
       " 'No offense to you dont waste your time heres why',\n",
       " 'Clap along if you feel like thats what you wanna do Hey Come on Uh',\n",
       " 'Happy Bring me down',\n",
       " 'Cant nothing Happy bring me down',\n",
       " 'My levels too high to Happy bring me down',\n",
       " 'Cant nothing Happy bring me down I said',\n",
       " 'Let me tell you now',\n",
       " 'Happy happy happy happy Bring me down',\n",
       " 'Cant nothing Happy happy happy happy bring me down',\n",
       " 'My levels too high to Happy happy happy happy bring me down',\n",
       " 'Cant nothing Happy happy happy bring me down I said',\n",
       " 'Clap along if you feel like thats what you wanna do Come on']"
      ]
     },
     "execution_count": 19,
     "metadata": {},
     "output_type": "execute_result"
    }
   ],
   "source": [
    "lu.lyrics_preprocessing(song.lyrics)"
   ]
  },
  {
   "cell_type": "code",
   "execution_count": null,
   "id": "52fa01e2-ae82-4d6d-ab87-f08f23bbbe31",
   "metadata": {},
   "outputs": [],
   "source": []
  }
 ],
 "metadata": {
  "kernelspec": {
   "display_name": "Python 3 (ipykernel)",
   "language": "python",
   "name": "python3"
  },
  "language_info": {
   "codemirror_mode": {
    "name": "ipython",
    "version": 3
   },
   "file_extension": ".py",
   "mimetype": "text/x-python",
   "name": "python",
   "nbconvert_exporter": "python",
   "pygments_lexer": "ipython3",
   "version": "3.13.3"
  }
 },
 "nbformat": 4,
 "nbformat_minor": 5
}
