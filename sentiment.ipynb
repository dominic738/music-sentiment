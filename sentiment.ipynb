{
 "cells": [
  {
   "cell_type": "code",
   "execution_count": 91,
   "id": "d5cb3330-777d-44a3-9e24-2d77970e3bbe",
   "metadata": {},
   "outputs": [],
   "source": [
    "import numpy as np\n",
    "import pandas as pd\n",
    "import matplotlib.pyplot as plt\n",
    "import seaborn as sns\n",
    "import lyricsgenius\n",
    "import re\n",
    "import os"
   ]
  },
  {
   "cell_type": "code",
   "execution_count": 92,
   "id": "14bdfc2e-1869-44e7-a21f-52400a60e477",
   "metadata": {},
   "outputs": [],
   "source": [
    "genius = lyricsgenius.Genius('2dYqSvUNCMoRboDR60nHLo7OsHqANk8BehiQ2WxExnKgqyBbLwdB-ePTjyxgRdsm')"
   ]
  },
  {
   "cell_type": "code",
   "execution_count": 93,
   "id": "2aeb9dcd-c207-425d-9ea3-b73afb7491ac",
   "metadata": {},
   "outputs": [
    {
     "name": "stdout",
     "output_type": "stream",
     "text": [
      "Searching for \"Punk Weight\" by Death Grips...\n",
      "Done.\n"
     ]
    }
   ],
   "source": [
    "song = genius.search_song('Punk Weight', 'Death Grips')"
   ]
  },
  {
   "cell_type": "code",
   "execution_count": 94,
   "id": "36c1276d-bfbf-4915-8cae-06ff0e43a058",
   "metadata": {},
   "outputs": [],
   "source": [
    "def clean_lyrics(text):\n",
    "\n",
    "    text = re.sub(r'\\[(.*?)\\]', '', text)\n",
    "    text = re.sub(r'[^a-zA-Z\\s]', '', text, flags=re.DOTALL)\n",
    "    \n",
    "\n",
    "    return text\n",
    "    "
   ]
  },
  {
   "cell_type": "code",
   "execution_count": 95,
   "id": "e2408a5f-b83d-4cc6-aa8c-a3220c6d53fa",
   "metadata": {},
   "outputs": [],
   "source": [
    "def remove_long_lines(text, max_length=200):\n",
    "    lines = text.split('\\n')\n",
    "    filtered_lines = [line for line in lines if len(line.strip()) <= max_length]\n",
    "    return '\\n'.join(filtered_lines)"
   ]
  },
  {
   "cell_type": "code",
   "execution_count": 96,
   "id": "bc08314d-1bc2-4206-ad7c-f6b357cd5894",
   "metadata": {},
   "outputs": [],
   "source": [
    "def remove_white_space(text):\n",
    "    return re.sub(r'\\s+', ' ', text)"
   ]
  },
  {
   "cell_type": "code",
   "execution_count": 97,
   "id": "f70603da-053b-47d1-8f97-34aea578306c",
   "metadata": {},
   "outputs": [],
   "source": [
    "\n",
    "def flatten_cleaned_lyrics(text):\n",
    "    text = clean_lyrics(text)\n",
    "    text = remove_long_lines(text)\n",
    "    text = remove_white_space(text)\n",
    "    return text.strip().lower()"
   ]
  },
  {
   "cell_type": "code",
   "execution_count": 98,
   "id": "56797de2-f2a3-4e5d-bcb6-37f5d02c8664",
   "metadata": {},
   "outputs": [
    {
     "data": {
      "text/plain": [
       "'hot shit cold shit okay motherfucker lets do this came to make it band sawed off razor edge maintained looseness comin through again and again conduit why them hands wave to high to it wild fire through your city wild fire through yourwhip me into lightning two knt hit three strikes dug out dated fools no dig me end beat limbo baba spitting blood in slowmo la la chimney warholian nightmare storm the gates twelve gauge punk weight punk weight punk weight punk weight out yo flesh out yo flesh out yo punk weight punk weight punk weight out yo flesh out yo flesh out yo stick and move leave no proof discard directly after use forensics on that wild goose follow my footprints into loops cause im too high too high cause im too high too high feel like im never ever gonna come down scale richter punk weight of this sound scale richter punk weight of this sound down break dead space and make it drop to the street beneath your ghetto box slap the beat til the floor boards crack neath the weight of this lic step back off in the rhythm like beta in the bong got to give em make em sway like palms in the wind my lip blow mic spray kyrlon til the break of dawn war war guerilla bass straight from the trenches posers impaled on picket fences how to rest your head in roachinfested basements and smoke punk weight for breakfast chop shop lifted bump til the tape deck break ask samo how he flipped that material girls pancakes as zydeco copper kettles liquor store sellin singles mug shots out to my people rollin i double l spread eagle hear flow then spit evil punk weight punk weight punk weight out yo flesh out yo flesh out yo punk weight punk weight punk weight out yo flesh out yo flesh out yo war war'"
      ]
     },
     "execution_count": 98,
     "metadata": {},
     "output_type": "execute_result"
    }
   ],
   "source": [
    "flatten_cleaned_lyrics(song.lyrics)"
   ]
  },
  {
   "cell_type": "code",
   "execution_count": null,
   "id": "0dda4671-4230-4edc-b496-683eb60e0ffe",
   "metadata": {},
   "outputs": [],
   "source": []
  }
 ],
 "metadata": {
  "kernelspec": {
   "display_name": "Python 3 (ipykernel)",
   "language": "python",
   "name": "python3"
  },
  "language_info": {
   "codemirror_mode": {
    "name": "ipython",
    "version": 3
   },
   "file_extension": ".py",
   "mimetype": "text/x-python",
   "name": "python",
   "nbconvert_exporter": "python",
   "pygments_lexer": "ipython3",
   "version": "3.13.3"
  }
 },
 "nbformat": 4,
 "nbformat_minor": 5
}
